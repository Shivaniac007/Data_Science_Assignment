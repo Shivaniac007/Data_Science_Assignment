{
  "nbformat": 4,
  "nbformat_minor": 0,
  "metadata": {
    "colab": {
      "provenance": []
    },
    "kernelspec": {
      "name": "python3",
      "display_name": "Python 3"
    },
    "language_info": {
      "name": "python"
    }
  },
  "cells": [
    {
      "cell_type": "code",
      "execution_count": 1,
      "metadata": {
        "id": "1D5z820Jaohh"
      },
      "outputs": [],
      "source": [
        "# Load data\n",
        "import pandas as pd\n",
        "\n",
        "customers = pd.read_csv('Customers.csv')\n",
        "products = pd.read_csv('Products.csv')\n",
        "transactions = pd.read_csv('Transactions.csv')\n",
        "\n",
        "# Merge data\n",
        "merged = transactions.merge(customers, on='CustomerID').merge(products, on='ProductID')\n"
      ]
    },
    {
      "cell_type": "code",
      "source": [
        "customer_features = merged.groupby('CustomerID').agg({\n",
        "    'TotalValue': 'sum',\n",
        "    'TransactionID': 'count',\n",
        "    'Category': lambda x: list(x.unique())\n",
        "}).rename(columns={\n",
        "    'TotalValue': 'TotalSpending',\n",
        "    'TransactionID': 'NumTransactions'\n",
        "})\n"
      ],
      "metadata": {
        "id": "dBn0YcBJa-Xd"
      },
      "execution_count": 4,
      "outputs": []
    },
    {
      "cell_type": "code",
      "source": [
        "from sklearn.metrics.pairwise import cosine_similarity\n",
        "from sklearn.feature_extraction.text import CountVectorizer\n",
        "\n",
        "# Encode product categories into a bag-of-words representation\n",
        "vectorizer = CountVectorizer(tokenizer=lambda x: x, preprocessor=lambda x: x)\n",
        "category_matrix = vectorizer.fit_transform(customer_features['Category'])\n",
        "\n",
        "# Combine numeric and categorical features\n",
        "numeric_features = customer_features[['TotalSpending', 'NumTransactions']].values\n",
        "combined_features = cosine_similarity(numeric_features) + cosine_similarity(category_matrix)\n",
        "\n",
        "# Get top 3 similar customers for each customer\n",
        "import numpy as np\n",
        "lookalike = {}\n",
        "for i, customer_id in enumerate(customer_features.index):\n",
        "    similarities = combined_features[i]\n",
        "    similar_indices = np.argsort(similarities)[::-1][1:4]  # Skip self\n",
        "    similar_customers = [(customer_features.index[idx], similarities[idx]) for idx in similar_indices]\n",
        "    lookalike[customer_id] = similar_customers\n"
      ],
      "metadata": {
        "colab": {
          "base_uri": "https://localhost:8080/"
        },
        "id": "a-SKSLeua_AZ",
        "outputId": "5d227d97-4207-4e99-fe72-6a3972283017"
      },
      "execution_count": 5,
      "outputs": [
        {
          "output_type": "stream",
          "name": "stderr",
          "text": [
            "/usr/local/lib/python3.11/dist-packages/sklearn/feature_extraction/text.py:517: UserWarning: The parameter 'token_pattern' will not be used since 'tokenizer' is not None'\n",
            "  warnings.warn(\n"
          ]
        }
      ]
    },
    {
      "cell_type": "code",
      "source": [
        "# Create a DataFrame\n",
        "lookalike_df = pd.DataFrame([\n",
        "    {\n",
        "        'CustomerID': customer_id,\n",
        "        'Lookalikes': ', '.join([f\"({cust}, {score:.2f})\" for cust, score in lookalike_list])\n",
        "    }\n",
        "    for customer_id, lookalike_list in lookalike.items()\n",
        "])\n",
        "\n",
        "# Save as CSV\n",
        "lookalike_df.to_csv('Shivani_Channagoudra_Lookalike.csv', index=False)\n"
      ],
      "metadata": {
        "id": "i3DWONeobCGE"
      },
      "execution_count": 7,
      "outputs": []
    }
  ]
}